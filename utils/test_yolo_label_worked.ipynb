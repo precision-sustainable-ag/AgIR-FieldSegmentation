{
 "cells": [
  {
   "cell_type": "code",
   "execution_count": 9,
   "metadata": {},
   "outputs": [],
   "source": [
    "import os\n",
    "import cv2\n",
    "import numpy as np\n"
   ]
  },
  {
   "cell_type": "code",
   "execution_count": 10,
   "metadata": {},
   "outputs": [],
   "source": [
    "def visualize_yolo_label_on_white(image_path, label_path, output_path):\n",
    "    # Load the image to get its dimensions (even if not used directly)\n",
    "    image = cv2.imread(image_path)\n",
    "    image_height, image_width = image.shape[:2]\n",
    "\n",
    "    # Create a blank white image\n",
    "    white_background = np.ones((image_height, image_width, 3), dtype=np.uint8) * 255  # A white background\n",
    "\n",
    "    # Load the YOLO label\n",
    "    with open(label_path, 'r') as f:\n",
    "        lines = f.readlines()\n",
    "\n",
    "    # For each line (which corresponds to one object)\n",
    "    for line in lines:\n",
    "        # Split the label line by space (first is the class_id, rest are polygon points)\n",
    "        parts = line.strip().split()\n",
    "        class_id = int(parts[0])  # Assuming class ID is an integer, although it's not used in drawing\n",
    "        polygon_points = np.array(parts[1:], dtype=np.float32).reshape(-1, 2)\n",
    "\n",
    "        # Denormalize the coordinates (bring them back to the image scale)\n",
    "        polygon_points[:, 0] *= image_width  # x coordinates\n",
    "        polygon_points[:, 1] *= image_height  # y coordinates\n",
    "\n",
    "        # Convert polygon points to integer\n",
    "        polygon_points = polygon_points.astype(np.int32)\n",
    "\n",
    "        # Draw the polygon on the white background\n",
    "        cv2.polylines(white_background, [polygon_points], isClosed=True, color=(0, 0, 0), thickness=2)  # Black lines\n",
    "\n",
    "    # Save the result as an image\n",
    "    cv2.imwrite(output_path, white_background)"
   ]
  },
  {
   "cell_type": "code",
   "execution_count": 12,
   "metadata": {},
   "outputs": [],
   "source": [
    "\n",
    "# Example usage\n",
    "image_path = \"/home/nsingh27/AgIR-FieldSegmentation/data/YOLO_dataset/custom_data_fine_tuning/masks/ALA00495_mask.jpg\"\n",
    "label_path = \"/home/nsingh27/AgIR-FieldSegmentation/data/YOLO_dataset/custom_data_fine_tuning/masks_auto_annotate_labels/ALA00495_mask.txt\"\n",
    "output_path = \"/home/nsingh27/AgIR-FieldSegmentation/data/YOLO_dataset/custom_data_fine_tuning/output_to_visualize_mask/ALA00495_mask_visualize_on_white.jpg\"\n",
    "visualize_yolo_label_on_white(image_path, label_path, output_path)\n"
   ]
  }
 ],
 "metadata": {
  "kernelspec": {
   "display_name": "field",
   "language": "python",
   "name": "python3"
  },
  "language_info": {
   "codemirror_mode": {
    "name": "ipython",
    "version": 3
   },
   "file_extension": ".py",
   "mimetype": "text/x-python",
   "name": "python",
   "nbconvert_exporter": "python",
   "pygments_lexer": "ipython3",
   "version": "3.10.14"
  }
 },
 "nbformat": 4,
 "nbformat_minor": 2
}
