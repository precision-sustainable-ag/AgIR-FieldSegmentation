{
 "cells": [
  {
   "cell_type": "code",
   "execution_count": 14,
   "metadata": {},
   "outputs": [],
   "source": [
    "import os\n",
    "import cv2\n",
    "import numpy as np\n",
    "import matplotlib.pyplot as plt\n",
    "from pathlib import Path\n"
   ]
  },
  {
   "cell_type": "code",
   "execution_count": 18,
   "metadata": {},
   "outputs": [],
   "source": [
    "def visualize_yolo_label_on_white(image_path, label_path, output_path):\n",
    "    # Load the image to get its dimensions (even if not used directly)\n",
    "    image = cv2.imread(image_path)\n",
    "    image_height, image_width = image.shape[:2]\n",
    "\n",
    "    # Create a blank white image\n",
    "    white_background = np.ones((image_height, image_width, 3), dtype=np.uint8) * 255  # A white background\n",
    "\n",
    "    # Load the YOLO label\n",
    "    with open(label_path, 'r') as f:\n",
    "        lines = f.readlines()\n",
    "\n",
    "    # For each line (which corresponds to one object)\n",
    "    for line in lines:\n",
    "        # Split the label line by space (first is the class_id, rest are polygon points)\n",
    "        parts = line.strip().split()\n",
    "        class_id = int(parts[0])  # Assuming class ID is an integer, although it's not used in drawing\n",
    "        polygon_points = np.array(parts[1:], dtype=np.float32).reshape(-1, 2)\n",
    "\n",
    "        # Denormalize the coordinates (bring them back to the image scale)\n",
    "        polygon_points[:, 0] *= image_width  # x coordinates\n",
    "        polygon_points[:, 1] *= image_height  # y coordinates\n",
    "\n",
    "        # Convert polygon points to integer\n",
    "        polygon_points = polygon_points.astype(np.int32)\n",
    "\n",
    "        # Draw the polygon on the white background\n",
    "        cv2.polylines(white_background, [polygon_points], isClosed=True, color=(0, 0, 0), thickness=2)  # Black lines\n",
    "\n",
    "    # Save the result as an image\n",
    "    # cv2.imwrite(output_path, white_background)\n",
    "    return white_background"
   ]
  },
  {
   "cell_type": "code",
   "execution_count": null,
   "metadata": {},
   "outputs": [],
   "source": [
    "\n",
    "# Example usage\n",
    "image_path = \"/home/mkutuga/AgIR-FieldSegmentation/data/images/ILA04172.jpg\"\n",
    "# label_path = Path(\"/home/mkutuga/AgIR-FieldSegmentation/data/yolo_segment_labels/ILA04093.txt\")\n",
    "output_path = \"./output.png\"\n",
    "# res = visualize_yolo_label_on_white(image_path, label_path, output_path)\n",
    "labels = sorted(list(Path(\"/home/mkutuga/AgIR-FieldSegmentation/data/yolo_segment_labels\").rglob(\"*.txt\")))[:10]\n",
    "for label_path in labels:\n",
    "    res = visualize_yolo_label_on_white(image_path, label_path, output_path)\n",
    "    plt.imshow(res)\n",
    "    plt.show() \n",
    "    plt.close()"
   ]
  },
  {
   "cell_type": "code",
   "execution_count": null,
   "metadata": {},
   "outputs": [],
   "source": []
  }
 ],
 "metadata": {
  "kernelspec": {
   "display_name": "field",
   "language": "python",
   "name": "python3"
  },
  "language_info": {
   "codemirror_mode": {
    "name": "ipython",
    "version": 3
   },
   "file_extension": ".py",
   "mimetype": "text/x-python",
   "name": "python",
   "nbconvert_exporter": "python",
   "pygments_lexer": "ipython3",
   "version": "3.10.13"
  }
 },
 "nbformat": 4,
 "nbformat_minor": 2
}
