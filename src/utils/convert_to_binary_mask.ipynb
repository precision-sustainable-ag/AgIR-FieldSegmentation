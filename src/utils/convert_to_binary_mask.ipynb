{
 "cells": [
  {
   "cell_type": "code",
   "execution_count": 1,
   "metadata": {},
   "outputs": [],
   "source": [
    "import os\n",
    "import cv2\n",
    "import numpy as np\n",
    "from pathlib import Path"
   ]
  },
  {
   "cell_type": "code",
   "execution_count": 2,
   "metadata": {},
   "outputs": [],
   "source": [
    "def mask_to_binary_mask(mask_path, output_path):\n",
    "    # Load the mask\n",
    "    mask = cv2.imread(mask_path)\n",
    "    # Convert the mask to grayscale\n",
    "    mask = cv2.cvtColor(mask, cv2.COLOR_BGR2GRAY)\n",
    "    # Binarize the mask\n",
    "    binary_mask = np.where(mask == 255, 255, 0).astype(np.uint8) \n",
    "\n",
    "    # Save the binary mask\n",
    "    cv2.imwrite(output_path, binary_mask)\n",
    "    "
   ]
  },
  {
   "cell_type": "code",
   "execution_count": 3,
   "metadata": {},
   "outputs": [
    {
     "name": "stdout",
     "output_type": "stream",
     "text": [
      "Converted /home/nsingh27/AgIR-FieldSegmentation/data/YOLO_dataset/custom_data_fine_tuning/masks/ALA00491_mask.jpg to /home/nsingh27/AgIR-FieldSegmentation/data/YOLO_dataset/custom_data_fine_tuning/binary_masks/ALA00491_mask.jpg\n",
      "Converted /home/nsingh27/AgIR-FieldSegmentation/data/YOLO_dataset/custom_data_fine_tuning/masks/ALA00517_mask.jpg to /home/nsingh27/AgIR-FieldSegmentation/data/YOLO_dataset/custom_data_fine_tuning/binary_masks/ALA00517_mask.jpg\n",
      "Converted /home/nsingh27/AgIR-FieldSegmentation/data/YOLO_dataset/custom_data_fine_tuning/masks/NCA03587_mask.jpg to /home/nsingh27/AgIR-FieldSegmentation/data/YOLO_dataset/custom_data_fine_tuning/binary_masks/NCA03587_mask.jpg\n",
      "Converted /home/nsingh27/AgIR-FieldSegmentation/data/YOLO_dataset/custom_data_fine_tuning/masks/ALA00446_mask.jpg to /home/nsingh27/AgIR-FieldSegmentation/data/YOLO_dataset/custom_data_fine_tuning/binary_masks/ALA00446_mask.jpg\n",
      "Converted /home/nsingh27/AgIR-FieldSegmentation/data/YOLO_dataset/custom_data_fine_tuning/masks/NCA03591_mask.jpg to /home/nsingh27/AgIR-FieldSegmentation/data/YOLO_dataset/custom_data_fine_tuning/binary_masks/NCA03591_mask.jpg\n",
      "Converted /home/nsingh27/AgIR-FieldSegmentation/data/YOLO_dataset/custom_data_fine_tuning/masks/ALA00497_mask.jpg to /home/nsingh27/AgIR-FieldSegmentation/data/YOLO_dataset/custom_data_fine_tuning/binary_masks/ALA00497_mask.jpg\n",
      "Converted /home/nsingh27/AgIR-FieldSegmentation/data/YOLO_dataset/custom_data_fine_tuning/masks/MDA07837_mask.jpg to /home/nsingh27/AgIR-FieldSegmentation/data/YOLO_dataset/custom_data_fine_tuning/binary_masks/MDA07837_mask.jpg\n",
      "Converted /home/nsingh27/AgIR-FieldSegmentation/data/YOLO_dataset/custom_data_fine_tuning/masks/ALA00445_mask.jpg to /home/nsingh27/AgIR-FieldSegmentation/data/YOLO_dataset/custom_data_fine_tuning/binary_masks/ALA00445_mask.jpg\n",
      "Converted /home/nsingh27/AgIR-FieldSegmentation/data/YOLO_dataset/custom_data_fine_tuning/masks/MDA07835_mask.jpg to /home/nsingh27/AgIR-FieldSegmentation/data/YOLO_dataset/custom_data_fine_tuning/binary_masks/MDA07835_mask.jpg\n",
      "Converted /home/nsingh27/AgIR-FieldSegmentation/data/YOLO_dataset/custom_data_fine_tuning/masks/NCA03596_mask.jpg to /home/nsingh27/AgIR-FieldSegmentation/data/YOLO_dataset/custom_data_fine_tuning/binary_masks/NCA03596_mask.jpg\n",
      "Converted /home/nsingh27/AgIR-FieldSegmentation/data/YOLO_dataset/custom_data_fine_tuning/masks/MDA07838_mask.jpg to /home/nsingh27/AgIR-FieldSegmentation/data/YOLO_dataset/custom_data_fine_tuning/binary_masks/MDA07838_mask.jpg\n",
      "Converted /home/nsingh27/AgIR-FieldSegmentation/data/YOLO_dataset/custom_data_fine_tuning/masks/NCA03595_mask.jpg to /home/nsingh27/AgIR-FieldSegmentation/data/YOLO_dataset/custom_data_fine_tuning/binary_masks/NCA03595_mask.jpg\n",
      "Converted /home/nsingh27/AgIR-FieldSegmentation/data/YOLO_dataset/custom_data_fine_tuning/masks/ALA00495_mask.jpg to /home/nsingh27/AgIR-FieldSegmentation/data/YOLO_dataset/custom_data_fine_tuning/binary_masks/ALA00495_mask.jpg\n",
      "Converted /home/nsingh27/AgIR-FieldSegmentation/data/YOLO_dataset/custom_data_fine_tuning/masks/ALA00167_mask.jpg to /home/nsingh27/AgIR-FieldSegmentation/data/YOLO_dataset/custom_data_fine_tuning/binary_masks/ALA00167_mask.jpg\n",
      "Converted /home/nsingh27/AgIR-FieldSegmentation/data/YOLO_dataset/custom_data_fine_tuning/masks/NCA03593_mask.jpg to /home/nsingh27/AgIR-FieldSegmentation/data/YOLO_dataset/custom_data_fine_tuning/binary_masks/NCA03593_mask.jpg\n"
     ]
    }
   ],
   "source": [
    "mask_dir = \"/home/nsingh27/AgIR-FieldSegmentation/data/YOLO_dataset/custom_data_fine_tuning/masks\"\n",
    "for mask in Path(mask_dir).rglob(\"*.jpg\"):\n",
    "    mask_path = str(mask)\n",
    "    output_path = mask_path.replace(\"masks\", \"binary_masks\")\n",
    "    mask_to_binary_mask(mask_path, output_path)\n",
    "    print(f\"Converted {mask_path} to {output_path}\")"
   ]
  }
 ],
 "metadata": {
  "kernelspec": {
   "display_name": "field",
   "language": "python",
   "name": "python3"
  },
  "language_info": {
   "codemirror_mode": {
    "name": "ipython",
    "version": 3
   },
   "file_extension": ".py",
   "mimetype": "text/x-python",
   "name": "python",
   "nbconvert_exporter": "python",
   "pygments_lexer": "ipython3",
   "version": "3.10.14"
  }
 },
 "nbformat": 4,
 "nbformat_minor": 2
}
